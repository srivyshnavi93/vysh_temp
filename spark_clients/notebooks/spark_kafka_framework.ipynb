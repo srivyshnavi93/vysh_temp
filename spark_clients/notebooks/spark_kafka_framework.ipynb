{
 "cells": [
  {
   "cell_type": "markdown",
   "id": "037cbae1-ddd0-4498-b6b8-89ce853a7bc5",
   "metadata": {
    "tags": []
   },
   "source": [
    "### Set Up"
   ]
  },
  {
   "cell_type": "code",
   "execution_count": 1,
   "id": "3731edaa-3d41-4e1a-96c0-55983b86092a",
   "metadata": {},
   "outputs": [],
   "source": [
    "import findspark \n",
    "findspark.init() \n",
    "\n",
    "import pyspark\n",
    "from delta import *\n",
    "import pandas as pd\n",
    "from pyspark.sql.functions import col\n",
    "\n",
    "pd.set_option('display.max_colwidth', None)\n",
    "pd.set_option('display.max_rows', None)\n",
    "pd.set_option('display.max_columns', None)"
   ]
  },
  {
   "cell_type": "code",
   "execution_count": 2,
   "id": "9efac861-05be-4e5c-b774-afa629c07b8f",
   "metadata": {
    "scrolled": true,
    "tags": []
   },
   "outputs": [
    {
     "name": "stdout",
     "output_type": "stream",
     "text": [
      ":: loading settings :: url = jar:file:/opt/spark/jars/ivy-2.5.0.jar!/org/apache/ivy/core/settings/ivysettings.xml\n"
     ]
    },
    {
     "name": "stderr",
     "output_type": "stream",
     "text": [
      "Ivy Default Cache set to: /opt/spark/cache\n",
      "The jars for the packages stored in: /opt/spark/jars\n",
      "io.delta#delta-core_2.12 added as a dependency\n",
      "org.apache.spark#spark-sql-kafka-0-10_2.12 added as a dependency\n",
      "com.mysql#mysql-connector-j added as a dependency\n",
      ":: resolving dependencies :: org.apache.spark#spark-submit-parent-9c47bc50-feb4-44c9-8ce9-bf81cc0aae70;1.0\n",
      "\tconfs: [default]\n",
      "\tfound io.delta#delta-core_2.12;2.2.0 in central\n",
      "\tfound io.delta#delta-storage;2.2.0 in central\n",
      "\tfound org.antlr#antlr4-runtime;4.8 in central\n",
      "\tfound org.apache.spark#spark-sql-kafka-0-10_2.12;3.3.1 in central\n",
      "\tfound org.apache.spark#spark-token-provider-kafka-0-10_2.12;3.3.1 in central\n",
      "\tfound org.apache.kafka#kafka-clients;2.8.1 in central\n",
      "\tfound org.lz4#lz4-java;1.8.0 in central\n",
      "\tfound org.xerial.snappy#snappy-java;1.1.8.4 in central\n",
      "\tfound org.slf4j#slf4j-api;1.7.32 in central\n",
      "\tfound org.apache.hadoop#hadoop-client-runtime;3.3.2 in central\n",
      "\tfound org.spark-project.spark#unused;1.0.0 in central\n",
      "\tfound org.apache.hadoop#hadoop-client-api;3.3.2 in central\n",
      "\tfound commons-logging#commons-logging;1.1.3 in central\n",
      "\tfound com.google.code.findbugs#jsr305;3.0.0 in central\n",
      "\tfound org.apache.commons#commons-pool2;2.11.1 in central\n",
      "\tfound com.mysql#mysql-connector-j;8.0.32 in central\n",
      "\tfound com.google.protobuf#protobuf-java;3.21.9 in central\n",
      ":: resolution report :: resolve 456ms :: artifacts dl 16ms\n",
      "\t:: modules in use:\n",
      "\tcom.google.code.findbugs#jsr305;3.0.0 from central in [default]\n",
      "\tcom.google.protobuf#protobuf-java;3.21.9 from central in [default]\n",
      "\tcom.mysql#mysql-connector-j;8.0.32 from central in [default]\n",
      "\tcommons-logging#commons-logging;1.1.3 from central in [default]\n",
      "\tio.delta#delta-core_2.12;2.2.0 from central in [default]\n",
      "\tio.delta#delta-storage;2.2.0 from central in [default]\n",
      "\torg.antlr#antlr4-runtime;4.8 from central in [default]\n",
      "\torg.apache.commons#commons-pool2;2.11.1 from central in [default]\n",
      "\torg.apache.hadoop#hadoop-client-api;3.3.2 from central in [default]\n",
      "\torg.apache.hadoop#hadoop-client-runtime;3.3.2 from central in [default]\n",
      "\torg.apache.kafka#kafka-clients;2.8.1 from central in [default]\n",
      "\torg.apache.spark#spark-sql-kafka-0-10_2.12;3.3.1 from central in [default]\n",
      "\torg.apache.spark#spark-token-provider-kafka-0-10_2.12;3.3.1 from central in [default]\n",
      "\torg.lz4#lz4-java;1.8.0 from central in [default]\n",
      "\torg.slf4j#slf4j-api;1.7.32 from central in [default]\n",
      "\torg.spark-project.spark#unused;1.0.0 from central in [default]\n",
      "\torg.xerial.snappy#snappy-java;1.1.8.4 from central in [default]\n",
      "\t---------------------------------------------------------------------\n",
      "\t|                  |            modules            ||   artifacts   |\n",
      "\t|       conf       | number| search|dwnlded|evicted|| number|dwnlded|\n",
      "\t---------------------------------------------------------------------\n",
      "\t|      default     |   17  |   0   |   0   |   0   ||   17  |   0   |\n",
      "\t---------------------------------------------------------------------\n",
      ":: retrieving :: org.apache.spark#spark-submit-parent-9c47bc50-feb4-44c9-8ce9-bf81cc0aae70\n",
      "\tconfs: [default]\n",
      "\t0 artifacts copied, 17 already retrieved (0kB/10ms)\n"
     ]
    },
    {
     "name": "stdout",
     "output_type": "stream",
     "text": [
      "23/03/12 19:57:44 WARN NativeCodeLoader: Unable to load native-hadoop library for your platform... using builtin-java classes where applicable\n"
     ]
    },
    {
     "name": "stderr",
     "output_type": "stream",
     "text": [
      "Setting default log level to \"WARN\".\n",
      "To adjust logging level use sc.setLogLevel(newLevel). For SparkR, use setLogLevel(newLevel).\n"
     ]
    }
   ],
   "source": [
    "spark = pyspark.sql.SparkSession.builder.master(\"spark://spark-master:7077\").appName(\"spark_kafka\").config(\"spark.sql.streaming.metricsEnabled\", \"true\").getOrCreate()\n",
    "\n",
    "sc = spark.sparkContext\n",
    "sc.setLogLevel('ERROR')"
   ]
  },
  {
   "cell_type": "code",
   "execution_count": 3,
   "id": "5d47460f-f5ee-41d9-b672-f7b96bce73bc",
   "metadata": {},
   "outputs": [],
   "source": [
    "import sys\n",
    "sys.path.append('/opt/spark/work-dir/odp_intra_storage/ingestion_framework/')"
   ]
  },
  {
   "cell_type": "markdown",
   "id": "4195a3f8-d3f1-4be1-9aa6-0287c2441f95",
   "metadata": {
    "jp-MarkdownHeadingCollapsed": true,
    "tags": []
   },
   "source": [
    "### Bronze Metadata"
   ]
  },
  {
   "cell_type": "code",
   "execution_count": null,
   "id": "b42f49e9-c1a5-49f4-bc3f-911cb6cb3563",
   "metadata": {},
   "outputs": [],
   "source": [
    "spark.sql(\"create database if not exists bronze\").toPandas()"
   ]
  },
  {
   "cell_type": "code",
   "execution_count": null,
   "id": "369ca4a7-00d1-4376-9c7c-b5dca8686c7a",
   "metadata": {},
   "outputs": [],
   "source": [
    "spark.sql(\"show databases\").toPandas()"
   ]
  },
  {
   "cell_type": "code",
   "execution_count": null,
   "id": "53a73dae-47fc-459a-b612-97b5cf5ae074",
   "metadata": {},
   "outputs": [],
   "source": [
    "from metadata_refresh.bronze_refresh import refresh_bronze_metadata"
   ]
  },
  {
   "cell_type": "code",
   "execution_count": null,
   "id": "ef3252a6-2cb2-4365-a923-f8f611211fcf",
   "metadata": {
    "scrolled": true,
    "tags": []
   },
   "outputs": [],
   "source": [
    "env = 'test'\n",
    "bronze_metadata_file_location = '/opt/spark/work-dir/odp_intra_storage/vysh_temp/spark_clients/notebooks/bronze/bronze_metadata.csv'\n",
    "bronze_metadata_table_name = 'bronze.metadata_table'\n",
    "\n",
    "spark.sql(f\"drop table if exists {bronze_metadata_table_name}\")\n",
    "\n",
    "refresh_bronze_metadata(spark, env, bronze_metadata_file_location, bronze_metadata_table_name)"
   ]
  },
  {
   "cell_type": "code",
   "execution_count": null,
   "id": "74dac033-67dc-486a-a44a-2edb5926706c",
   "metadata": {},
   "outputs": [],
   "source": [
    "spark.table(\"bronze.metadata_table\").where(\"pipeline_id = 1\").select(\"*\").toPandas()"
   ]
  },
  {
   "cell_type": "markdown",
   "id": "6a485d79-e350-4473-ae64-505acc4326ef",
   "metadata": {},
   "source": [
    "### Streaming Pipeline"
   ]
  },
  {
   "cell_type": "code",
   "execution_count": 4,
   "id": "4d949d9e-393f-482e-b21d-b1d9829d5cb1",
   "metadata": {},
   "outputs": [],
   "source": [
    "from spark_ingestion_app.spark_ingestion_app import SparkIngestionApp"
   ]
  },
  {
   "cell_type": "code",
   "execution_count": 5,
   "id": "285d6fb3-725f-4d86-80c1-2938a6808675",
   "metadata": {},
   "outputs": [
    {
     "name": "stderr",
     "output_type": "stream",
     "text": [
      "                                                                                \r"
     ]
    },
    {
     "data": {
      "text/html": [
       "<div>\n",
       "<style scoped>\n",
       "    .dataframe tbody tr th:only-of-type {\n",
       "        vertical-align: middle;\n",
       "    }\n",
       "\n",
       "    .dataframe tbody tr th {\n",
       "        vertical-align: top;\n",
       "    }\n",
       "\n",
       "    .dataframe thead th {\n",
       "        text-align: right;\n",
       "    }\n",
       "</style>\n",
       "<table border=\"1\" class=\"dataframe\">\n",
       "  <thead>\n",
       "    <tr style=\"text-align: right;\">\n",
       "      <th></th>\n",
       "    </tr>\n",
       "  </thead>\n",
       "  <tbody>\n",
       "  </tbody>\n",
       "</table>\n",
       "</div>"
      ],
      "text/plain": [
       "Empty DataFrame\n",
       "Columns: []\n",
       "Index: []"
      ]
     },
     "execution_count": 5,
     "metadata": {},
     "output_type": "execute_result"
    }
   ],
   "source": [
    "# spark.sql(\"drop table if exists bronze.weather_test_v1\").toPandas()"
   ]
  },
  {
   "cell_type": "code",
   "execution_count": 6,
   "id": "e07ac2ab-9fbc-4961-9cce-8196fa91d73a",
   "metadata": {},
   "outputs": [
    {
     "name": "stderr",
     "output_type": "stream",
     "text": [
      "                                                                                \r"
     ]
    }
   ],
   "source": [
    "module_parameters = '\\'{\"group_id\": \"1\", \"pipeline_id\": \"1\"}\\''\n",
    "\n",
    "SparkIngestionApp.run_module(spark = spark, module_name = 'KafkaToBronze', module_parameters = module_parameters, log_level='INFO')"
   ]
  },
  {
   "cell_type": "code",
   "execution_count": null,
   "id": "8111d0e6-cde3-4e9a-8a4b-3349dda216a8",
   "metadata": {},
   "outputs": [],
   "source": []
  },
  {
   "cell_type": "code",
   "execution_count": 7,
   "id": "04737ff7-c38d-4dea-af91-cb6f691c8151",
   "metadata": {},
   "outputs": [
    {
     "name": "stderr",
     "output_type": "stream",
     "text": [
      "/opt/spark/python/pyspark/sql/pandas/conversion.py:248: FutureWarning: Passing unit-less datetime64 dtype to .astype is deprecated and will raise in a future version. Pass 'datetime64[ns]' instead\n",
      "  series = series.astype(t, copy=False)\n"
     ]
    },
    {
     "data": {
      "text/html": [
       "<div>\n",
       "<style scoped>\n",
       "    .dataframe tbody tr th:only-of-type {\n",
       "        vertical-align: middle;\n",
       "    }\n",
       "\n",
       "    .dataframe tbody tr th {\n",
       "        vertical-align: top;\n",
       "    }\n",
       "\n",
       "    .dataframe thead th {\n",
       "        text-align: right;\n",
       "    }\n",
       "</style>\n",
       "<table border=\"1\" class=\"dataframe\">\n",
       "  <thead>\n",
       "    <tr style=\"text-align: right;\">\n",
       "      <th></th>\n",
       "      <th>key</th>\n",
       "      <th>topic</th>\n",
       "      <th>partition</th>\n",
       "      <th>offset</th>\n",
       "      <th>timestamp</th>\n",
       "      <th>timestampType</th>\n",
       "      <th>value</th>\n",
       "      <th>headers</th>\n",
       "      <th>kafka_date</th>\n",
       "    </tr>\n",
       "  </thead>\n",
       "  <tbody>\n",
       "    <tr>\n",
       "      <th>0</th>\n",
       "      <td>None</td>\n",
       "      <td>weather_test_v1</td>\n",
       "      <td>0</td>\n",
       "      <td>860</td>\n",
       "      <td>2023-03-12 18:15:02.963</td>\n",
       "      <td>0</td>\n",
       "      <td>[123, 34, 100, 97, 116, 97, 34, 58, 32, 123, 34, 108, 111, 99, 97, 116, 105, 111, 110, 34, 58, 32, 34, 78, 97, 112, 101, 114, 118, 105, 108, 108, 101, 34, 44, 32, 34, 116, 105, 109, 101, 34, 58, 32, 34, 83, 117, 110, 100, 97, 121, 32, 49, 58, 48, 48, 92, 117, 50, 48, 50, 102, 80, 77, 34, 44, 32, 34, 105, 110, 102, 111, 34, 58, 32, 34, 83, 110, 111, 119, 32, 115, 104, 111, 119, 101, 114, 115, 34, 44, 32, 34, 116, 101, 109, 112, 101, 114, 97, 116, ...]</td>\n",
       "      <td>None</td>\n",
       "      <td>2023-03-12</td>\n",
       "    </tr>\n",
       "    <tr>\n",
       "      <th>1</th>\n",
       "      <td>None</td>\n",
       "      <td>weather_test_v1</td>\n",
       "      <td>0</td>\n",
       "      <td>861</td>\n",
       "      <td>2023-03-12 18:15:33.813</td>\n",
       "      <td>0</td>\n",
       "      <td>[123, 34, 100, 97, 116, 97, 34, 58, 32, 123, 34, 108, 111, 99, 97, 116, 105, 111, 110, 34, 58, 32, 34, 78, 97, 112, 101, 114, 118, 105, 108, 108, 101, 34, 44, 32, 34, 116, 105, 109, 101, 34, 58, 32, 34, 83, 117, 110, 100, 97, 121, 32, 49, 58, 48, 48, 92, 117, 50, 48, 50, 102, 80, 77, 34, 44, 32, 34, 105, 110, 102, 111, 34, 58, 32, 34, 83, 110, 111, 119, 32, 115, 104, 111, 119, 101, 114, 115, 34, 44, 32, 34, 116, 101, 109, 112, 101, 114, 97, 116, ...]</td>\n",
       "      <td>None</td>\n",
       "      <td>2023-03-12</td>\n",
       "    </tr>\n",
       "    <tr>\n",
       "      <th>2</th>\n",
       "      <td>None</td>\n",
       "      <td>weather_test_v1</td>\n",
       "      <td>0</td>\n",
       "      <td>862</td>\n",
       "      <td>2023-03-12 18:16:19.705</td>\n",
       "      <td>0</td>\n",
       "      <td>[123, 34, 100, 97, 116, 97, 34, 58, 32, 123, 34, 108, 111, 99, 97, 116, 105, 111, 110, 34, 58, 32, 34, 78, 97, 112, 101, 114, 118, 105, 108, 108, 101, 34, 44, 32, 34, 116, 105, 109, 101, 34, 58, 32, 34, 83, 117, 110, 100, 97, 121, 32, 49, 58, 48, 48, 92, 117, 50, 48, 50, 102, 80, 77, 34, 44, 32, 34, 105, 110, 102, 111, 34, 58, 32, 34, 83, 110, 111, 119, 32, 115, 104, 111, 119, 101, 114, 115, 34, 44, 32, 34, 116, 101, 109, 112, 101, 114, 97, 116, ...]</td>\n",
       "      <td>None</td>\n",
       "      <td>2023-03-12</td>\n",
       "    </tr>\n",
       "    <tr>\n",
       "      <th>3</th>\n",
       "      <td>None</td>\n",
       "      <td>weather_test_v1</td>\n",
       "      <td>0</td>\n",
       "      <td>863</td>\n",
       "      <td>2023-03-12 18:17:20.502</td>\n",
       "      <td>0</td>\n",
       "      <td>[123, 34, 100, 97, 116, 97, 34, 58, 32, 123, 34, 108, 111, 99, 97, 116, 105, 111, 110, 34, 58, 32, 34, 78, 97, 112, 101, 114, 118, 105, 108, 108, 101, 34, 44, 32, 34, 116, 105, 109, 101, 34, 58, 32, 34, 83, 117, 110, 100, 97, 121, 32, 49, 58, 48, 48, 92, 117, 50, 48, 50, 102, 80, 77, 34, 44, 32, 34, 105, 110, 102, 111, 34, 58, 32, 34, 83, 110, 111, 119, 32, 115, 104, 111, 119, 101, 114, 115, 34, 44, 32, 34, 116, 101, 109, 112, 101, 114, 97, 116, ...]</td>\n",
       "      <td>None</td>\n",
       "      <td>2023-03-12</td>\n",
       "    </tr>\n",
       "    <tr>\n",
       "      <th>4</th>\n",
       "      <td>None</td>\n",
       "      <td>weather_test_v1</td>\n",
       "      <td>0</td>\n",
       "      <td>864</td>\n",
       "      <td>2023-03-12 18:18:21.386</td>\n",
       "      <td>0</td>\n",
       "      <td>[123, 34, 100, 97, 116, 97, 34, 58, 32, 123, 34, 108, 111, 99, 97, 116, 105, 111, 110, 34, 58, 32, 34, 78, 97, 112, 101, 114, 118, 105, 108, 108, 101, 34, 44, 32, 34, 116, 105, 109, 101, 34, 58, 32, 34, 83, 117, 110, 100, 97, 121, 32, 49, 58, 48, 48, 92, 117, 50, 48, 50, 102, 80, 77, 34, 44, 32, 34, 105, 110, 102, 111, 34, 58, 32, 34, 83, 110, 111, 119, 32, 115, 104, 111, 119, 101, 114, 115, 34, 44, 32, 34, 116, 101, 109, 112, 101, 114, 97, 116, ...]</td>\n",
       "      <td>None</td>\n",
       "      <td>2023-03-12</td>\n",
       "    </tr>\n",
       "    <tr>\n",
       "      <th>5</th>\n",
       "      <td>None</td>\n",
       "      <td>weather_test_v1</td>\n",
       "      <td>0</td>\n",
       "      <td>865</td>\n",
       "      <td>2023-03-12 18:19:22.144</td>\n",
       "      <td>0</td>\n",
       "      <td>[123, 34, 100, 97, 116, 97, 34, 58, 32, 123, 34, 108, 111, 99, 97, 116, 105, 111, 110, 34, 58, 32, 34, 78, 97, 112, 101, 114, 118, 105, 108, 108, 101, 34, 44, 32, 34, 116, 105, 109, 101, 34, 58, 32, 34, 83, 117, 110, 100, 97, 121, 32, 49, 58, 48, 48, 92, 117, 50, 48, 50, 102, 80, 77, 34, 44, 32, 34, 105, 110, 102, 111, 34, 58, 32, 34, 83, 110, 111, 119, 32, 115, 104, 111, 119, 101, 114, 115, 34, 44, 32, 34, 116, 101, 109, 112, 101, 114, 97, 116, ...]</td>\n",
       "      <td>None</td>\n",
       "      <td>2023-03-12</td>\n",
       "    </tr>\n",
       "    <tr>\n",
       "      <th>6</th>\n",
       "      <td>None</td>\n",
       "      <td>weather_test_v1</td>\n",
       "      <td>0</td>\n",
       "      <td>866</td>\n",
       "      <td>2023-03-12 18:20:23.083</td>\n",
       "      <td>0</td>\n",
       "      <td>[123, 34, 100, 97, 116, 97, 34, 58, 32, 123, 34, 108, 111, 99, 97, 116, 105, 111, 110, 34, 58, 32, 34, 78, 97, 112, 101, 114, 118, 105, 108, 108, 101, 34, 44, 32, 34, 116, 105, 109, 101, 34, 58, 32, 34, 83, 117, 110, 100, 97, 121, 32, 49, 58, 48, 48, 92, 117, 50, 48, 50, 102, 80, 77, 34, 44, 32, 34, 105, 110, 102, 111, 34, 58, 32, 34, 83, 110, 111, 119, 32, 115, 104, 111, 119, 101, 114, 115, 34, 44, 32, 34, 116, 101, 109, 112, 101, 114, 97, 116, ...]</td>\n",
       "      <td>None</td>\n",
       "      <td>2023-03-12</td>\n",
       "    </tr>\n",
       "    <tr>\n",
       "      <th>7</th>\n",
       "      <td>None</td>\n",
       "      <td>weather_test_v1</td>\n",
       "      <td>0</td>\n",
       "      <td>867</td>\n",
       "      <td>2023-03-12 18:21:23.838</td>\n",
       "      <td>0</td>\n",
       "      <td>[123, 34, 100, 97, 116, 97, 34, 58, 32, 123, 34, 108, 111, 99, 97, 116, 105, 111, 110, 34, 58, 32, 34, 78, 97, 112, 101, 114, 118, 105, 108, 108, 101, 34, 44, 32, 34, 116, 105, 109, 101, 34, 58, 32, 34, 83, 117, 110, 100, 97, 121, 32, 49, 58, 48, 48, 92, 117, 50, 48, 50, 102, 80, 77, 34, 44, 32, 34, 105, 110, 102, 111, 34, 58, 32, 34, 83, 110, 111, 119, 32, 115, 104, 111, 119, 101, 114, 115, 34, 44, 32, 34, 116, 101, 109, 112, 101, 114, 97, 116, ...]</td>\n",
       "      <td>None</td>\n",
       "      <td>2023-03-12</td>\n",
       "    </tr>\n",
       "    <tr>\n",
       "      <th>8</th>\n",
       "      <td>None</td>\n",
       "      <td>weather_test_v1</td>\n",
       "      <td>0</td>\n",
       "      <td>868</td>\n",
       "      <td>2023-03-12 18:22:24.700</td>\n",
       "      <td>0</td>\n",
       "      <td>[123, 34, 100, 97, 116, 97, 34, 58, 32, 123, 34, 108, 111, 99, 97, 116, 105, 111, 110, 34, 58, 32, 34, 78, 97, 112, 101, 114, 118, 105, 108, 108, 101, 34, 44, 32, 34, 116, 105, 109, 101, 34, 58, 32, 34, 83, 117, 110, 100, 97, 121, 32, 49, 58, 48, 48, 92, 117, 50, 48, 50, 102, 80, 77, 34, 44, 32, 34, 105, 110, 102, 111, 34, 58, 32, 34, 83, 110, 111, 119, 32, 115, 104, 111, 119, 101, 114, 115, 34, 44, 32, 34, 116, 101, 109, 112, 101, 114, 97, 116, ...]</td>\n",
       "      <td>None</td>\n",
       "      <td>2023-03-12</td>\n",
       "    </tr>\n",
       "    <tr>\n",
       "      <th>9</th>\n",
       "      <td>None</td>\n",
       "      <td>weather_test_v1</td>\n",
       "      <td>0</td>\n",
       "      <td>869</td>\n",
       "      <td>2023-03-12 18:23:25.457</td>\n",
       "      <td>0</td>\n",
       "      <td>[123, 34, 100, 97, 116, 97, 34, 58, 32, 123, 34, 108, 111, 99, 97, 116, 105, 111, 110, 34, 58, 32, 34, 78, 97, 112, 101, 114, 118, 105, 108, 108, 101, 34, 44, 32, 34, 116, 105, 109, 101, 34, 58, 32, 34, 83, 117, 110, 100, 97, 121, 32, 49, 58, 48, 48, 92, 117, 50, 48, 50, 102, 80, 77, 34, 44, 32, 34, 105, 110, 102, 111, 34, 58, 32, 34, 83, 110, 111, 119, 32, 115, 104, 111, 119, 101, 114, 115, 34, 44, 32, 34, 116, 101, 109, 112, 101, 114, 97, 116, ...]</td>\n",
       "      <td>None</td>\n",
       "      <td>2023-03-12</td>\n",
       "    </tr>\n",
       "  </tbody>\n",
       "</table>\n",
       "</div>"
      ],
      "text/plain": [
       "    key            topic  partition  offset               timestamp  \\\n",
       "0  None  weather_test_v1          0     860 2023-03-12 18:15:02.963   \n",
       "1  None  weather_test_v1          0     861 2023-03-12 18:15:33.813   \n",
       "2  None  weather_test_v1          0     862 2023-03-12 18:16:19.705   \n",
       "3  None  weather_test_v1          0     863 2023-03-12 18:17:20.502   \n",
       "4  None  weather_test_v1          0     864 2023-03-12 18:18:21.386   \n",
       "5  None  weather_test_v1          0     865 2023-03-12 18:19:22.144   \n",
       "6  None  weather_test_v1          0     866 2023-03-12 18:20:23.083   \n",
       "7  None  weather_test_v1          0     867 2023-03-12 18:21:23.838   \n",
       "8  None  weather_test_v1          0     868 2023-03-12 18:22:24.700   \n",
       "9  None  weather_test_v1          0     869 2023-03-12 18:23:25.457   \n",
       "\n",
       "   timestampType  \\\n",
       "0              0   \n",
       "1              0   \n",
       "2              0   \n",
       "3              0   \n",
       "4              0   \n",
       "5              0   \n",
       "6              0   \n",
       "7              0   \n",
       "8              0   \n",
       "9              0   \n",
       "\n",
       "                                                                                                                                                                                                                                                                                                                                                                                                                                                                    value  \\\n",
       "0  [123, 34, 100, 97, 116, 97, 34, 58, 32, 123, 34, 108, 111, 99, 97, 116, 105, 111, 110, 34, 58, 32, 34, 78, 97, 112, 101, 114, 118, 105, 108, 108, 101, 34, 44, 32, 34, 116, 105, 109, 101, 34, 58, 32, 34, 83, 117, 110, 100, 97, 121, 32, 49, 58, 48, 48, 92, 117, 50, 48, 50, 102, 80, 77, 34, 44, 32, 34, 105, 110, 102, 111, 34, 58, 32, 34, 83, 110, 111, 119, 32, 115, 104, 111, 119, 101, 114, 115, 34, 44, 32, 34, 116, 101, 109, 112, 101, 114, 97, 116, ...]   \n",
       "1  [123, 34, 100, 97, 116, 97, 34, 58, 32, 123, 34, 108, 111, 99, 97, 116, 105, 111, 110, 34, 58, 32, 34, 78, 97, 112, 101, 114, 118, 105, 108, 108, 101, 34, 44, 32, 34, 116, 105, 109, 101, 34, 58, 32, 34, 83, 117, 110, 100, 97, 121, 32, 49, 58, 48, 48, 92, 117, 50, 48, 50, 102, 80, 77, 34, 44, 32, 34, 105, 110, 102, 111, 34, 58, 32, 34, 83, 110, 111, 119, 32, 115, 104, 111, 119, 101, 114, 115, 34, 44, 32, 34, 116, 101, 109, 112, 101, 114, 97, 116, ...]   \n",
       "2  [123, 34, 100, 97, 116, 97, 34, 58, 32, 123, 34, 108, 111, 99, 97, 116, 105, 111, 110, 34, 58, 32, 34, 78, 97, 112, 101, 114, 118, 105, 108, 108, 101, 34, 44, 32, 34, 116, 105, 109, 101, 34, 58, 32, 34, 83, 117, 110, 100, 97, 121, 32, 49, 58, 48, 48, 92, 117, 50, 48, 50, 102, 80, 77, 34, 44, 32, 34, 105, 110, 102, 111, 34, 58, 32, 34, 83, 110, 111, 119, 32, 115, 104, 111, 119, 101, 114, 115, 34, 44, 32, 34, 116, 101, 109, 112, 101, 114, 97, 116, ...]   \n",
       "3  [123, 34, 100, 97, 116, 97, 34, 58, 32, 123, 34, 108, 111, 99, 97, 116, 105, 111, 110, 34, 58, 32, 34, 78, 97, 112, 101, 114, 118, 105, 108, 108, 101, 34, 44, 32, 34, 116, 105, 109, 101, 34, 58, 32, 34, 83, 117, 110, 100, 97, 121, 32, 49, 58, 48, 48, 92, 117, 50, 48, 50, 102, 80, 77, 34, 44, 32, 34, 105, 110, 102, 111, 34, 58, 32, 34, 83, 110, 111, 119, 32, 115, 104, 111, 119, 101, 114, 115, 34, 44, 32, 34, 116, 101, 109, 112, 101, 114, 97, 116, ...]   \n",
       "4  [123, 34, 100, 97, 116, 97, 34, 58, 32, 123, 34, 108, 111, 99, 97, 116, 105, 111, 110, 34, 58, 32, 34, 78, 97, 112, 101, 114, 118, 105, 108, 108, 101, 34, 44, 32, 34, 116, 105, 109, 101, 34, 58, 32, 34, 83, 117, 110, 100, 97, 121, 32, 49, 58, 48, 48, 92, 117, 50, 48, 50, 102, 80, 77, 34, 44, 32, 34, 105, 110, 102, 111, 34, 58, 32, 34, 83, 110, 111, 119, 32, 115, 104, 111, 119, 101, 114, 115, 34, 44, 32, 34, 116, 101, 109, 112, 101, 114, 97, 116, ...]   \n",
       "5  [123, 34, 100, 97, 116, 97, 34, 58, 32, 123, 34, 108, 111, 99, 97, 116, 105, 111, 110, 34, 58, 32, 34, 78, 97, 112, 101, 114, 118, 105, 108, 108, 101, 34, 44, 32, 34, 116, 105, 109, 101, 34, 58, 32, 34, 83, 117, 110, 100, 97, 121, 32, 49, 58, 48, 48, 92, 117, 50, 48, 50, 102, 80, 77, 34, 44, 32, 34, 105, 110, 102, 111, 34, 58, 32, 34, 83, 110, 111, 119, 32, 115, 104, 111, 119, 101, 114, 115, 34, 44, 32, 34, 116, 101, 109, 112, 101, 114, 97, 116, ...]   \n",
       "6  [123, 34, 100, 97, 116, 97, 34, 58, 32, 123, 34, 108, 111, 99, 97, 116, 105, 111, 110, 34, 58, 32, 34, 78, 97, 112, 101, 114, 118, 105, 108, 108, 101, 34, 44, 32, 34, 116, 105, 109, 101, 34, 58, 32, 34, 83, 117, 110, 100, 97, 121, 32, 49, 58, 48, 48, 92, 117, 50, 48, 50, 102, 80, 77, 34, 44, 32, 34, 105, 110, 102, 111, 34, 58, 32, 34, 83, 110, 111, 119, 32, 115, 104, 111, 119, 101, 114, 115, 34, 44, 32, 34, 116, 101, 109, 112, 101, 114, 97, 116, ...]   \n",
       "7  [123, 34, 100, 97, 116, 97, 34, 58, 32, 123, 34, 108, 111, 99, 97, 116, 105, 111, 110, 34, 58, 32, 34, 78, 97, 112, 101, 114, 118, 105, 108, 108, 101, 34, 44, 32, 34, 116, 105, 109, 101, 34, 58, 32, 34, 83, 117, 110, 100, 97, 121, 32, 49, 58, 48, 48, 92, 117, 50, 48, 50, 102, 80, 77, 34, 44, 32, 34, 105, 110, 102, 111, 34, 58, 32, 34, 83, 110, 111, 119, 32, 115, 104, 111, 119, 101, 114, 115, 34, 44, 32, 34, 116, 101, 109, 112, 101, 114, 97, 116, ...]   \n",
       "8  [123, 34, 100, 97, 116, 97, 34, 58, 32, 123, 34, 108, 111, 99, 97, 116, 105, 111, 110, 34, 58, 32, 34, 78, 97, 112, 101, 114, 118, 105, 108, 108, 101, 34, 44, 32, 34, 116, 105, 109, 101, 34, 58, 32, 34, 83, 117, 110, 100, 97, 121, 32, 49, 58, 48, 48, 92, 117, 50, 48, 50, 102, 80, 77, 34, 44, 32, 34, 105, 110, 102, 111, 34, 58, 32, 34, 83, 110, 111, 119, 32, 115, 104, 111, 119, 101, 114, 115, 34, 44, 32, 34, 116, 101, 109, 112, 101, 114, 97, 116, ...]   \n",
       "9  [123, 34, 100, 97, 116, 97, 34, 58, 32, 123, 34, 108, 111, 99, 97, 116, 105, 111, 110, 34, 58, 32, 34, 78, 97, 112, 101, 114, 118, 105, 108, 108, 101, 34, 44, 32, 34, 116, 105, 109, 101, 34, 58, 32, 34, 83, 117, 110, 100, 97, 121, 32, 49, 58, 48, 48, 92, 117, 50, 48, 50, 102, 80, 77, 34, 44, 32, 34, 105, 110, 102, 111, 34, 58, 32, 34, 83, 110, 111, 119, 32, 115, 104, 111, 119, 101, 114, 115, 34, 44, 32, 34, 116, 101, 109, 112, 101, 114, 97, 116, ...]   \n",
       "\n",
       "  headers  kafka_date  \n",
       "0    None  2023-03-12  \n",
       "1    None  2023-03-12  \n",
       "2    None  2023-03-12  \n",
       "3    None  2023-03-12  \n",
       "4    None  2023-03-12  \n",
       "5    None  2023-03-12  \n",
       "6    None  2023-03-12  \n",
       "7    None  2023-03-12  \n",
       "8    None  2023-03-12  \n",
       "9    None  2023-03-12  "
      ]
     },
     "execution_count": 7,
     "metadata": {},
     "output_type": "execute_result"
    },
    {
     "name": "stderr",
     "output_type": "stream",
     "text": [
      "                                                                                \r"
     ]
    }
   ],
   "source": [
    "spark.sql(\"select * from bronze.weather_test_v1 limit 10\").toPandas()"
   ]
  },
  {
   "cell_type": "code",
   "execution_count": null,
   "id": "3b1de8ad-3da7-496b-a12a-ccfcb8dfb3b5",
   "metadata": {},
   "outputs": [],
   "source": []
  }
 ],
 "metadata": {
  "kernelspec": {
   "display_name": "Python 3 (ipykernel)",
   "language": "python",
   "name": "python3"
  },
  "language_info": {
   "codemirror_mode": {
    "name": "ipython",
    "version": 3
   },
   "file_extension": ".py",
   "mimetype": "text/x-python",
   "name": "python",
   "nbconvert_exporter": "python",
   "pygments_lexer": "ipython3",
   "version": "3.9.2"
  }
 },
 "nbformat": 4,
 "nbformat_minor": 5
}
