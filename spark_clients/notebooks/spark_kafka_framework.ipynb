{
 "cells": [
  {
   "cell_type": "markdown",
   "id": "037cbae1-ddd0-4498-b6b8-89ce853a7bc5",
   "metadata": {
    "tags": []
   },
   "source": [
    "### Set Up"
   ]
  },
  {
   "cell_type": "code",
   "execution_count": null,
   "id": "3731edaa-3d41-4e1a-96c0-55983b86092a",
   "metadata": {},
   "outputs": [],
   "source": [
    "import findspark \n",
    "findspark.init() \n",
    "\n",
    "import pyspark\n",
    "from delta import *\n",
    "import pandas as pd\n",
    "from pyspark.sql.functions import col\n",
    "\n",
    "pd.set_option('display.max_colwidth', None)\n",
    "pd.set_option('display.max_rows', None)\n",
    "pd.set_option('display.max_columns', None)"
   ]
  },
  {
   "cell_type": "code",
   "execution_count": null,
   "id": "9efac861-05be-4e5c-b774-afa629c07b8f",
   "metadata": {
    "scrolled": true,
    "tags": []
   },
   "outputs": [],
   "source": [
    "spark = pyspark.sql.SparkSession.builder.master(\"spark://spark-master:7077\").appName(\"spark_kafka\").config(\"spark.sql.streaming.metricsEnabled\", \"true\").getOrCreate()\n",
    "\n",
    "sc = spark.sparkContext\n",
    "sc.setLogLevel('ERROR')"
   ]
  },
  {
   "cell_type": "code",
   "execution_count": null,
   "id": "5d47460f-f5ee-41d9-b672-f7b96bce73bc",
   "metadata": {},
   "outputs": [],
   "source": [
    "import sys\n",
    "sys.path.append('/opt/spark/work-dir/odp_intra_storage/ingestion_framework/')"
   ]
  },
  {
   "cell_type": "markdown",
   "id": "4195a3f8-d3f1-4be1-9aa6-0287c2441f95",
   "metadata": {
    "tags": []
   },
   "source": [
    "### Bronze Metadata"
   ]
  },
  {
   "cell_type": "code",
   "execution_count": null,
   "id": "b42f49e9-c1a5-49f4-bc3f-911cb6cb3563",
   "metadata": {},
   "outputs": [],
   "source": [
    "spark.sql(\"create database if not exists bronze\").toPandas()"
   ]
  },
  {
   "cell_type": "code",
   "execution_count": null,
   "id": "369ca4a7-00d1-4376-9c7c-b5dca8686c7a",
   "metadata": {},
   "outputs": [],
   "source": [
    "spark.sql(\"show databases\").toPandas()"
   ]
  },
  {
   "cell_type": "code",
   "execution_count": null,
   "id": "53a73dae-47fc-459a-b612-97b5cf5ae074",
   "metadata": {},
   "outputs": [],
   "source": [
    "from metadata_refresh.bronze_refresh import refresh_bronze_metadata"
   ]
  },
  {
   "cell_type": "code",
   "execution_count": null,
   "id": "ef3252a6-2cb2-4365-a923-f8f611211fcf",
   "metadata": {
    "scrolled": true,
    "tags": []
   },
   "outputs": [],
   "source": [
    "env = 'test'\n",
    "bronze_metadata_file_location = '/opt/spark/work-dir/odp_intra_storage/vysh_temp/spark_clients/notebooks/bronze/bronze_metadata.csv'\n",
    "bronze_metadata_table_name = 'bronze.metadata_table'\n",
    "\n",
    "spark.sql(f\"drop table if exists {bronze_metadata_table_name}\")\n",
    "\n",
    "refresh_bronze_metadata(spark, env, bronze_metadata_file_location, bronze_metadata_table_name)"
   ]
  },
  {
   "cell_type": "code",
   "execution_count": null,
   "id": "74dac033-67dc-486a-a44a-2edb5926706c",
   "metadata": {},
   "outputs": [],
   "source": [
    "spark.table(\"bronze.metadata_table\").where(\"pipeline_id = 1\").select(\"*\").toPandas()"
   ]
  },
  {
   "cell_type": "markdown",
   "id": "6a485d79-e350-4473-ae64-505acc4326ef",
   "metadata": {},
   "source": [
    "### Streaming Pipeline"
   ]
  },
  {
   "cell_type": "code",
   "execution_count": null,
   "id": "4d949d9e-393f-482e-b21d-b1d9829d5cb1",
   "metadata": {},
   "outputs": [],
   "source": [
    "from spark_ingestion_app.spark_ingestion_app import SparkIngestionApp"
   ]
  },
  {
   "cell_type": "code",
   "execution_count": null,
   "id": "285d6fb3-725f-4d86-80c1-2938a6808675",
   "metadata": {},
   "outputs": [],
   "source": [
    "# spark.sql(\"drop table if exists bronze.weather_test_v1\").toPandas()"
   ]
  },
  {
   "cell_type": "code",
   "execution_count": null,
   "id": "e07ac2ab-9fbc-4961-9cce-8196fa91d73a",
   "metadata": {},
   "outputs": [],
   "source": [
    "module_parameters = '\\'{\"group_id\": \"1\", \"pipeline_id\": \"1\"}\\''\n",
    "\n",
    "SparkIngestionApp.run_module(spark = spark, module_name = 'KafkaToBronze', module_parameters = module_parameters, log_level='INFO')"
   ]
  },
  {
   "cell_type": "code",
   "execution_count": null,
   "id": "8111d0e6-cde3-4e9a-8a4b-3349dda216a8",
   "metadata": {},
   "outputs": [],
   "source": []
  },
  {
   "cell_type": "code",
   "execution_count": null,
   "id": "8416dacb-0049-44d2-9171-b47aa53242f2",
   "metadata": {},
   "outputs": [],
   "source": [
    "spark.sql(\"select * from bronze.weather_test_v1 limit 10\").toPandas()"
   ]
  },
  {
   "cell_type": "code",
   "execution_count": null,
   "id": "04737ff7-c38d-4dea-af91-cb6f691c8151",
   "metadata": {},
   "outputs": [],
   "source": [
    "spark.sql(\"select current_timestamp, max(timestamp) from bronze.weather_test_v1 limit 10\").toPandas()"
   ]
  },
  {
   "cell_type": "code",
   "execution_count": null,
   "id": "3b1de8ad-3da7-496b-a12a-ccfcb8dfb3b5",
   "metadata": {},
   "outputs": [],
   "source": []
  }
 ],
 "metadata": {
  "kernelspec": {
   "display_name": "Python 3 (ipykernel)",
   "language": "python",
   "name": "python3"
  },
  "language_info": {
   "codemirror_mode": {
    "name": "ipython",
    "version": 3
   },
   "file_extension": ".py",
   "mimetype": "text/x-python",
   "name": "python",
   "nbconvert_exporter": "python",
   "pygments_lexer": "ipython3",
   "version": "3.9.2"
  }
 },
 "nbformat": 4,
 "nbformat_minor": 5
}
