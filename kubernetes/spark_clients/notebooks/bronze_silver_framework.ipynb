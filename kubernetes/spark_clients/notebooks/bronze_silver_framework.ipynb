{
 "cells": [
  {
   "cell_type": "markdown",
   "id": "52fa0eca-26de-4dda-b762-a1f19cb2bacd",
   "metadata": {},
   "source": [
    "### Set Up"
   ]
  },
  {
   "cell_type": "code",
   "execution_count": null,
   "id": "72f79a17-54de-4ecb-bf74-e8cf7e1bd439",
   "metadata": {
    "tags": []
   },
   "outputs": [],
   "source": [
    "import findspark \n",
    "findspark.init() \n",
    "\n",
    "import pyspark\n",
    "from delta import *\n",
    "import pandas as pd\n",
    "from pyspark.sql.functions import col\n",
    "\n",
    "pd.set_option('display.max_colwidth', None)\n",
    "pd.set_option('display.max_rows', None)\n",
    "pd.set_option('display.max_columns', None)"
   ]
  },
  {
   "cell_type": "code",
   "execution_count": null,
   "id": "683304d0-d736-4b1c-bd50-dc24ae97f229",
   "metadata": {
    "scrolled": true,
    "tags": []
   },
   "outputs": [],
   "source": [
    "spark = pyspark.sql.SparkSession.builder.master(\"spark://spark-master:7077\").appName(\"bronze_silver\").getOrCreate()\n",
    "\n",
    "sc = spark.sparkContext\n",
    "sc.setLogLevel('ERROR')"
   ]
  },
  {
   "cell_type": "code",
   "execution_count": null,
   "id": "75db9979-0747-4509-b5af-c71defed8686",
   "metadata": {
    "tags": []
   },
   "outputs": [],
   "source": [
    "import sys\n",
    "sys.path.append('/opt/spark/work-dir/odp_intra_storage/vysh_temp/ingestion_framework/')"
   ]
  },
  {
   "cell_type": "markdown",
   "id": "686aa98a-a578-4002-8a27-d96f699c0478",
   "metadata": {
    "tags": []
   },
   "source": [
    "### Silver Metadata"
   ]
  },
  {
   "cell_type": "code",
   "execution_count": null,
   "id": "7284aa25-68d9-4c6a-9746-ae28c0d6454f",
   "metadata": {
    "tags": []
   },
   "outputs": [],
   "source": [
    "spark.sql(\"create database if not exists silver\").toPandas()"
   ]
  },
  {
   "cell_type": "code",
   "execution_count": null,
   "id": "06e482aa-33ad-4450-b282-41346deae59b",
   "metadata": {
    "tags": []
   },
   "outputs": [],
   "source": [
    "spark.sql(\"show databases\").toPandas()"
   ]
  },
  {
   "cell_type": "code",
   "execution_count": null,
   "id": "4c2c5c72-30ac-492d-81e4-d9bc9e67cd65",
   "metadata": {
    "tags": []
   },
   "outputs": [],
   "source": [
    "from metadata_refresh.silver_refresh import refresh_silver_metadata"
   ]
  },
  {
   "cell_type": "code",
   "execution_count": null,
   "id": "91ac8db8-5bcd-4404-86a4-b53b9860f602",
   "metadata": {
    "tags": []
   },
   "outputs": [],
   "source": [
    "env = 'test'\n",
    "silver_metadata_file_location = '/opt/spark/work-dir/odp_intra_storage/vysh_temp/kubernetes/spark_clients/notebooks/silver/silver_metadata.csv'\n",
    "silver_metadata_table_name = 'silver.metadata_table'\n",
    "\n",
    "spark.sql(f\"drop table if exists {silver_metadata_table_name}\")\n",
    "\n",
    "refresh_silver_metadata(spark, env, silver_metadata_file_location, silver_metadata_table_name)"
   ]
  },
  {
   "cell_type": "code",
   "execution_count": null,
   "id": "99946116-e63f-4f32-bc1e-75c65625cf8e",
   "metadata": {
    "tags": []
   },
   "outputs": [],
   "source": [
    "spark.table(\"silver.metadata_table\").where(\"pipeline_id = 1\").select(\"*\").toPandas()"
   ]
  },
  {
   "cell_type": "markdown",
   "id": "ca2361e8-43a0-4bec-a56a-3b4012408fb9",
   "metadata": {},
   "source": [
    "### Streaming Pipeline"
   ]
  },
  {
   "cell_type": "code",
   "execution_count": null,
   "id": "b0c05e98-602b-44da-8a0c-4c9ed0e6a83a",
   "metadata": {
    "tags": []
   },
   "outputs": [],
   "source": [
    "from spark_ingestion_app.spark_ingestion_app import SparkIngestionApp"
   ]
  },
  {
   "cell_type": "code",
   "execution_count": null,
   "id": "04c61722-1490-49da-888a-4620b1777011",
   "metadata": {
    "tags": []
   },
   "outputs": [],
   "source": [
    "# spark.sql(\"drop table if exists silver.weather_v1_events\")"
   ]
  },
  {
   "cell_type": "code",
   "execution_count": null,
   "id": "d8808e5e-64c6-4ea1-93c7-a02aad5f4a09",
   "metadata": {
    "tags": []
   },
   "outputs": [],
   "source": [
    "spark.sql(\"\"\"\n",
    "create table if not exists silver.weather_v1_events\n",
    "(\n",
    "message_key string,\n",
    "load_time timestamp,\n",
    "kafka_topic string,\n",
    "kafka_partition int,\n",
    "kafka_offset bigint,\n",
    "kafka_timestamp timestamp,\n",
    "kafka_date date,\n",
    "message_sent_at timestamp,\n",
    "location string,\n",
    "time string,\n",
    "info string,\n",
    "temperature string,\n",
    "precipitation string,\n",
    "humidity string,\n",
    "wind string\n",
    ")\n",
    "using delta\n",
    "\"\"\")"
   ]
  },
  {
   "cell_type": "code",
   "execution_count": null,
   "id": "b4921b77-9d8f-44c1-b262-627183e29050",
   "metadata": {
    "scrolled": true,
    "tags": []
   },
   "outputs": [],
   "source": [
    "module_parameters = '\\'{\"group_id\": \"1\", \"pipeline_id\": \"1\"}\\''\n",
    "\n",
    "SparkIngestionApp.run_module(spark = spark, module_name = 'BronzeToSilver', module_parameters = module_parameters, log_level='INFO')"
   ]
  },
  {
   "cell_type": "code",
   "execution_count": null,
   "id": "a3830a64-3af0-41c3-a96b-1de3369e8157",
   "metadata": {},
   "outputs": [],
   "source": []
  },
  {
   "cell_type": "code",
   "execution_count": null,
   "id": "d68700c3-eb5d-46e7-86de-543cfdf888c1",
   "metadata": {
    "scrolled": true,
    "tags": []
   },
   "outputs": [],
   "source": [
    "# spark = pyspark.sql.SparkSession.builder.master(\"local\").getOrCreate()\n",
    "spark.sql(\"select * from silver.weather_v1_events order by kafka_timestamp desc limit 10\").toPandas()"
   ]
  },
  {
   "cell_type": "code",
   "execution_count": null,
   "id": "3ebdf1a2-526d-4183-bca7-12a48ec55cf9",
   "metadata": {},
   "outputs": [],
   "source": []
  }
 ],
 "metadata": {
  "kernelspec": {
   "display_name": "Python 3 (ipykernel)",
   "language": "python",
   "name": "python3"
  },
  "language_info": {
   "codemirror_mode": {
    "name": "ipython",
    "version": 3
   },
   "file_extension": ".py",
   "mimetype": "text/x-python",
   "name": "python",
   "nbconvert_exporter": "python",
   "pygments_lexer": "ipython3",
   "version": "3.9.2"
  }
 },
 "nbformat": 4,
 "nbformat_minor": 5
}
