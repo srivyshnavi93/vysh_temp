{
 "cells": [
  {
   "cell_type": "code",
   "execution_count": null,
   "id": "e27a0171-279d-49f3-8bb9-cafbe3bfbd46",
   "metadata": {},
   "outputs": [],
   "source": [
    "import mysql.connector"
   ]
  },
  {
   "cell_type": "code",
   "execution_count": null,
   "id": "1eabc1f1-343c-4a20-912b-7681796b0896",
   "metadata": {},
   "outputs": [],
   "source": [
    "cnx = mysql.connector.connect(user='hive_user', password='metastore', host='metastore', database='metastore_db')\n",
    "\n",
    "try:\n",
    "    cursor = cnx.cursor()\n",
    "    # cursor.execute(\"\"\"SHOW TABLES FROM metastore_db;\"\"\")\n",
    "    cursor.execute(\"\"\"SELECT * FROM CTLGS;\"\"\")\n",
    "    # cursor.execute(\"\"\"DROP DATABASE metastore_db\"\"\")\n",
    "    # cursor.execute(\"\"\"CREATE DATABASE metastore_db\"\"\")\n",
    "    result = cursor.fetchall()\n",
    "    print(result)\n",
    "finally:\n",
    "    cnx.close()"
   ]
  },
  {
   "cell_type": "code",
   "execution_count": null,
   "id": "41ab8268-f735-4aec-8aa5-a7dc24323adb",
   "metadata": {},
   "outputs": [],
   "source": [
    "# cnx = mysql.connector.connect(user='hive_user', password='metastore', host='metastore', database='metastore_db')\n",
    "# cursor =cnx.cursor()\n",
    "\n",
    "# def executeScriptsFromFile(filename):\n",
    "#     fd = open(filename, 'r')\n",
    "#     sqlFile = fd.read()\n",
    "#     fd.close()\n",
    "#     sqlCommands = sqlFile.split(';')\n",
    "\n",
    "#     for command in sqlCommands:\n",
    "#         try:\n",
    "#             if command.strip() != '':\n",
    "#                 cursor.execute(command)\n",
    "#         except Exception as msg:\n",
    "#             print(\"Command skipped: \", msg)\n",
    "\n",
    "# executeScriptsFromFile('hive_schema.sql')\n",
    "# cnx.commit()"
   ]
  }
 ],
 "metadata": {
  "kernelspec": {
   "display_name": "Python 3 (ipykernel)",
   "language": "python",
   "name": "python3"
  },
  "language_info": {
   "codemirror_mode": {
    "name": "ipython",
    "version": 3
   },
   "file_extension": ".py",
   "mimetype": "text/x-python",
   "name": "python",
   "nbconvert_exporter": "python",
   "pygments_lexer": "ipython3",
   "version": "3.9.2"
  }
 },
 "nbformat": 4,
 "nbformat_minor": 5
}
