{
 "cells": [
  {
   "cell_type": "code",
   "execution_count": null,
   "id": "e5771dae-93e5-4638-b05c-b05e54c74915",
   "metadata": {
    "tags": []
   },
   "outputs": [],
   "source": [
    "import findspark \n",
    "findspark.init()\n",
    "\n",
    "import pyspark\n",
    "from delta import *"
   ]
  },
  {
   "cell_type": "code",
   "execution_count": null,
   "id": "2fd56cd7-667b-4952-b0c8-7b556fac2b0e",
   "metadata": {
    "scrolled": true,
    "tags": []
   },
   "outputs": [],
   "source": [
    "# my_packages = [\"org.apache.spark:spark-sql-kafka-0-10_2.12:3.3.1,net.snowflake:snowflake-jdbc:3.13.26,net.snowflake:spark-snowflake_2.12:2.11.1-spark_3.3\"]\n",
    "\n",
    "# builder = pyspark.sql.SparkSession \\\n",
    "#     .builder \\\n",
    "#     .master(\"spark://spark-master:7077\") \\\n",
    "#     .appName(\"DeltaLake\") \\\n",
    "#     .config(\"spark.sql.extensions\", \"io.delta.sql.DeltaSparkSessionExtension\") \\\n",
    "#     .config(\"spark.sql.catalog.spark_catalog\", \"org.apache.spark.sql.delta.catalog.DeltaCatalog\") \\\n",
    "#     .config(\"spark.sql.warehouse.dir\", \"/opt/spark/work-dir/odp_intra_storage/spark/datalake\") \\\n",
    "#     .enableHiveSupport()\n",
    "\n",
    "# spark = configure_spark_with_delta_pip(builder, extra_packages = my_packages).getOrCreate()\n",
    "\n",
    "# sc = spark.sparkContext\n",
    "# sc.setLogLevel('ERROR')"
   ]
  },
  {
   "cell_type": "code",
   "execution_count": null,
   "id": "3ddf1c7b-5501-46dc-96c6-a2d85e85acaa",
   "metadata": {
    "scrolled": true,
    "tags": []
   },
   "outputs": [],
   "source": [
    "spark = pyspark.sql.SparkSession.builder.master(\"spark://spark-master:7077\").appName(\"spark_tester\").getOrCreate()\n",
    "\n",
    "sc = spark.sparkContext\n",
    "sc.setLogLevel('ERROR')"
   ]
  },
  {
   "cell_type": "code",
   "execution_count": null,
   "id": "25bd9e0d-32e6-4dd6-acad-f3d60774e6b9",
   "metadata": {},
   "outputs": [],
   "source": []
  },
  {
   "cell_type": "code",
   "execution_count": null,
   "id": "8be24b94-083e-4ecc-8155-cd895639f1dc",
   "metadata": {
    "scrolled": true,
    "tags": []
   },
   "outputs": [],
   "source": [
    "spark.sql(\"show databases\").toPandas()"
   ]
  },
  {
   "cell_type": "code",
   "execution_count": null,
   "id": "b143cc77-7d58-45a3-a350-2f565b0929d5",
   "metadata": {
    "tags": []
   },
   "outputs": [],
   "source": [
    "spark.sql(\"create database if not exists test_db\").toPandas()"
   ]
  },
  {
   "cell_type": "code",
   "execution_count": null,
   "id": "fa5aad34-b141-4027-b4c3-86ceeb901ca2",
   "metadata": {
    "tags": []
   },
   "outputs": [],
   "source": [
    "spark.sql(\"desc database test_db\").toPandas()"
   ]
  },
  {
   "cell_type": "code",
   "execution_count": null,
   "id": "ef0949e9-8e0c-41b7-a8a7-9efd363d2f56",
   "metadata": {},
   "outputs": [],
   "source": []
  },
  {
   "cell_type": "code",
   "execution_count": null,
   "id": "ee24f6db-2b06-44b0-95f1-42b43369cf73",
   "metadata": {
    "scrolled": true,
    "tags": []
   },
   "outputs": [],
   "source": [
    "spark.range(10000000 + 1).write.format(\"delta\").mode('overwrite').saveAsTable(\"test_db.test_table\")"
   ]
  },
  {
   "cell_type": "code",
   "execution_count": null,
   "id": "35ed5629-6919-4cc6-9a91-395f12b8a32b",
   "metadata": {},
   "outputs": [],
   "source": [
    "# spark.sql(\"drop database test_db cascade\")"
   ]
  },
  {
   "cell_type": "code",
   "execution_count": null,
   "id": "fea2ee5a-1a21-48b8-a6c2-61357dc48887",
   "metadata": {
    "tags": []
   },
   "outputs": [],
   "source": [
    "spark.sql(\"show tables in test_db\").show()"
   ]
  },
  {
   "cell_type": "code",
   "execution_count": null,
   "id": "0c3129fc-f431-45c1-a2b0-04548e402512",
   "metadata": {
    "tags": []
   },
   "outputs": [],
   "source": [
    "spark.sql(\"desc detail test_db.test_table\").show()"
   ]
  },
  {
   "cell_type": "code",
   "execution_count": null,
   "id": "3a31bc64-9b58-43ca-a906-3ae6776197bb",
   "metadata": {
    "scrolled": true,
    "tags": []
   },
   "outputs": [],
   "source": [
    "spark.sql(\"select * from test_db.test_table limit 2\").toPandas()"
   ]
  },
  {
   "cell_type": "code",
   "execution_count": null,
   "id": "157b30cc-7965-4be1-b271-123e2cc93101",
   "metadata": {},
   "outputs": [],
   "source": []
  },
  {
   "cell_type": "code",
   "execution_count": null,
   "id": "003e916b-6bf3-4890-b310-2212c991e6fe",
   "metadata": {},
   "outputs": [],
   "source": [
    "spark.range(10000 + 1).write.format(\"parquet\").mode('overwrite').saveAsTable(\"default.test_table\")"
   ]
  },
  {
   "cell_type": "code",
   "execution_count": null,
   "id": "1739da2a-f098-4cd5-9b7b-f93b5a9146dc",
   "metadata": {},
   "outputs": [],
   "source": [
    "spark.sql(\"select * from default.test_table limit 2\").toPandas()"
   ]
  },
  {
   "cell_type": "code",
   "execution_count": null,
   "id": "5ab6546c-ea6f-4e13-97e2-f1c2da40777f",
   "metadata": {},
   "outputs": [],
   "source": []
  }
 ],
 "metadata": {
  "kernelspec": {
   "display_name": "Python 3 (ipykernel)",
   "language": "python",
   "name": "python3"
  },
  "language_info": {
   "codemirror_mode": {
    "name": "ipython",
    "version": 3
   },
   "file_extension": ".py",
   "mimetype": "text/x-python",
   "name": "python",
   "nbconvert_exporter": "python",
   "pygments_lexer": "ipython3",
   "version": "3.9.2"
  }
 },
 "nbformat": 4,
 "nbformat_minor": 5
}
