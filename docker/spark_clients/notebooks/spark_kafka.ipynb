{
 "cells": [
  {
   "cell_type": "code",
   "execution_count": 2,
   "id": "f7d3ccfc-0040-4a10-8e0d-d6dae4f2e6d5",
   "metadata": {},
   "outputs": [],
   "source": [
    "import findspark \n",
    "findspark.init() \n",
    "\n",
    "import pyspark\n",
    "from delta import *\n",
    "import pandas as pd\n",
    "from pyspark.sql.functions import col\n",
    "\n",
    "pd.set_option('display.max_colwidth', None)\n",
    "pd.set_option('display.max_rows', None)\n",
    "pd.set_option('display.max_columns', None)"
   ]
  },
  {
   "cell_type": "code",
   "execution_count": 3,
   "id": "a60f88ab-e54b-4768-ad79-3f3f84fcdc8e",
   "metadata": {
    "scrolled": true,
    "tags": []
   },
   "outputs": [
    {
     "name": "stdout",
     "output_type": "stream",
     "text": [
      ":: loading settings :: url = jar:file:/opt/spark/jars/ivy-2.5.0.jar!/org/apache/ivy/core/settings/ivysettings.xml\n"
     ]
    },
    {
     "name": "stderr",
     "output_type": "stream",
     "text": [
      "Ivy Default Cache set to: /opt/spark/cache\n",
      "The jars for the packages stored in: /opt/spark/jars\n",
      "io.delta#delta-core_2.12 added as a dependency\n",
      "org.apache.spark#spark-sql-kafka-0-10_2.12 added as a dependency\n",
      "com.mysql#mysql-connector-j added as a dependency\n",
      ":: resolving dependencies :: org.apache.spark#spark-submit-parent-616921c3-c50b-44c2-855e-3a075efb39f2;1.0\n",
      "\tconfs: [default]\n",
      "\tfound io.delta#delta-core_2.12;2.2.0 in central\n",
      "\tfound io.delta#delta-storage;2.2.0 in central\n",
      "\tfound org.antlr#antlr4-runtime;4.8 in central\n",
      "\tfound org.apache.spark#spark-sql-kafka-0-10_2.12;3.3.1 in central\n",
      "\tfound org.apache.spark#spark-token-provider-kafka-0-10_2.12;3.3.1 in central\n",
      "\tfound org.apache.kafka#kafka-clients;2.8.1 in central\n",
      "\tfound org.lz4#lz4-java;1.8.0 in central\n",
      "\tfound org.xerial.snappy#snappy-java;1.1.8.4 in central\n",
      "\tfound org.slf4j#slf4j-api;1.7.32 in central\n",
      "\tfound org.apache.hadoop#hadoop-client-runtime;3.3.2 in central\n",
      "\tfound org.spark-project.spark#unused;1.0.0 in central\n",
      "\tfound org.apache.hadoop#hadoop-client-api;3.3.2 in central\n",
      "\tfound commons-logging#commons-logging;1.1.3 in central\n",
      "\tfound com.google.code.findbugs#jsr305;3.0.0 in central\n",
      "\tfound org.apache.commons#commons-pool2;2.11.1 in central\n",
      "\tfound com.mysql#mysql-connector-j;8.0.32 in central\n",
      "\tfound com.google.protobuf#protobuf-java;3.21.9 in central\n",
      ":: resolution report :: resolve 459ms :: artifacts dl 14ms\n",
      "\t:: modules in use:\n",
      "\tcom.google.code.findbugs#jsr305;3.0.0 from central in [default]\n",
      "\tcom.google.protobuf#protobuf-java;3.21.9 from central in [default]\n",
      "\tcom.mysql#mysql-connector-j;8.0.32 from central in [default]\n",
      "\tcommons-logging#commons-logging;1.1.3 from central in [default]\n",
      "\tio.delta#delta-core_2.12;2.2.0 from central in [default]\n",
      "\tio.delta#delta-storage;2.2.0 from central in [default]\n",
      "\torg.antlr#antlr4-runtime;4.8 from central in [default]\n",
      "\torg.apache.commons#commons-pool2;2.11.1 from central in [default]\n",
      "\torg.apache.hadoop#hadoop-client-api;3.3.2 from central in [default]\n",
      "\torg.apache.hadoop#hadoop-client-runtime;3.3.2 from central in [default]\n",
      "\torg.apache.kafka#kafka-clients;2.8.1 from central in [default]\n",
      "\torg.apache.spark#spark-sql-kafka-0-10_2.12;3.3.1 from central in [default]\n",
      "\torg.apache.spark#spark-token-provider-kafka-0-10_2.12;3.3.1 from central in [default]\n",
      "\torg.lz4#lz4-java;1.8.0 from central in [default]\n",
      "\torg.slf4j#slf4j-api;1.7.32 from central in [default]\n",
      "\torg.spark-project.spark#unused;1.0.0 from central in [default]\n",
      "\torg.xerial.snappy#snappy-java;1.1.8.4 from central in [default]\n",
      "\t---------------------------------------------------------------------\n",
      "\t|                  |            modules            ||   artifacts   |\n",
      "\t|       conf       | number| search|dwnlded|evicted|| number|dwnlded|\n",
      "\t---------------------------------------------------------------------\n",
      "\t|      default     |   17  |   0   |   0   |   0   ||   17  |   0   |\n",
      "\t---------------------------------------------------------------------\n",
      ":: retrieving :: org.apache.spark#spark-submit-parent-616921c3-c50b-44c2-855e-3a075efb39f2\n",
      "\tconfs: [default]\n",
      "\t0 artifacts copied, 17 already retrieved (0kB/9ms)\n"
     ]
    },
    {
     "name": "stdout",
     "output_type": "stream",
     "text": [
      "23/03/17 19:12:26 WARN NativeCodeLoader: Unable to load native-hadoop library for your platform... using builtin-java classes where applicable\n"
     ]
    },
    {
     "name": "stderr",
     "output_type": "stream",
     "text": [
      "Setting default log level to \"WARN\".\n",
      "To adjust logging level use sc.setLogLevel(newLevel). For SparkR, use setLogLevel(newLevel).\n"
     ]
    },
    {
     "name": "stdout",
     "output_type": "stream",
     "text": [
      "23/03/17 19:12:28 WARN Utils: Service 'SparkUI' could not bind on port 4040. Attempting port 4041.\n"
     ]
    }
   ],
   "source": [
    "spark = pyspark.sql.SparkSession.builder.master(\"spark://spark-master:7077\").appName(\"spark_kafka\").config(\"spark.sql.streaming.metricsEnabled\", \"true\").getOrCreate()\n",
    "\n",
    "sc = spark.sparkContext\n",
    "sc.setLogLevel('ERROR')"
   ]
  },
  {
   "cell_type": "code",
   "execution_count": 7,
   "id": "5424076d-b3dd-46eb-b7cc-1d588b02ab63",
   "metadata": {},
   "outputs": [
    {
     "data": {
      "text/html": [
       "<div>\n",
       "<style scoped>\n",
       "    .dataframe tbody tr th:only-of-type {\n",
       "        vertical-align: middle;\n",
       "    }\n",
       "\n",
       "    .dataframe tbody tr th {\n",
       "        vertical-align: top;\n",
       "    }\n",
       "\n",
       "    .dataframe thead th {\n",
       "        text-align: right;\n",
       "    }\n",
       "</style>\n",
       "<table border=\"1\" class=\"dataframe\">\n",
       "  <thead>\n",
       "    <tr style=\"text-align: right;\">\n",
       "      <th></th>\n",
       "      <th>namespace</th>\n",
       "    </tr>\n",
       "  </thead>\n",
       "  <tbody>\n",
       "    <tr>\n",
       "      <th>0</th>\n",
       "      <td>bronze</td>\n",
       "    </tr>\n",
       "    <tr>\n",
       "      <th>1</th>\n",
       "      <td>default</td>\n",
       "    </tr>\n",
       "    <tr>\n",
       "      <th>2</th>\n",
       "      <td>silver</td>\n",
       "    </tr>\n",
       "    <tr>\n",
       "      <th>3</th>\n",
       "      <td>test_db</td>\n",
       "    </tr>\n",
       "  </tbody>\n",
       "</table>\n",
       "</div>"
      ],
      "text/plain": [
       "  namespace\n",
       "0    bronze\n",
       "1   default\n",
       "2    silver\n",
       "3   test_db"
      ]
     },
     "execution_count": 7,
     "metadata": {},
     "output_type": "execute_result"
    }
   ],
   "source": [
    "spark.sql(\"show databases\").toPandas()"
   ]
  },
  {
   "cell_type": "code",
   "execution_count": 8,
   "id": "ef35903d-9cff-4290-841e-1b65bc7c249f",
   "metadata": {},
   "outputs": [
    {
     "data": {
      "text/html": [
       "<div>\n",
       "<style scoped>\n",
       "    .dataframe tbody tr th:only-of-type {\n",
       "        vertical-align: middle;\n",
       "    }\n",
       "\n",
       "    .dataframe tbody tr th {\n",
       "        vertical-align: top;\n",
       "    }\n",
       "\n",
       "    .dataframe thead th {\n",
       "        text-align: right;\n",
       "    }\n",
       "</style>\n",
       "<table border=\"1\" class=\"dataframe\">\n",
       "  <thead>\n",
       "    <tr style=\"text-align: right;\">\n",
       "      <th></th>\n",
       "      <th>namespace</th>\n",
       "      <th>tableName</th>\n",
       "      <th>isTemporary</th>\n",
       "    </tr>\n",
       "  </thead>\n",
       "  <tbody>\n",
       "    <tr>\n",
       "      <th>0</th>\n",
       "      <td>test_db</td>\n",
       "      <td>spark_kafka</td>\n",
       "      <td>False</td>\n",
       "    </tr>\n",
       "    <tr>\n",
       "      <th>1</th>\n",
       "      <td>test_db</td>\n",
       "      <td>test_table</td>\n",
       "      <td>False</td>\n",
       "    </tr>\n",
       "    <tr>\n",
       "      <th>2</th>\n",
       "      <td>test_db</td>\n",
       "      <td>weather_test_v1</td>\n",
       "      <td>False</td>\n",
       "    </tr>\n",
       "  </tbody>\n",
       "</table>\n",
       "</div>"
      ],
      "text/plain": [
       "  namespace        tableName  isTemporary\n",
       "0   test_db      spark_kafka        False\n",
       "1   test_db       test_table        False\n",
       "2   test_db  weather_test_v1        False"
      ]
     },
     "execution_count": 8,
     "metadata": {},
     "output_type": "execute_result"
    }
   ],
   "source": [
    "spark.sql(\"show tables in test_db\").toPandas()"
   ]
  },
  {
   "cell_type": "code",
   "execution_count": 5,
   "id": "536430de-4cea-4494-8e55-80ecc1511453",
   "metadata": {},
   "outputs": [],
   "source": [
    "# spark.sql(\"drop table test_db.spark_kafka\").toPandas()"
   ]
  },
  {
   "cell_type": "code",
   "execution_count": 6,
   "id": "dfb2f08f-a3e8-4f43-abef-e9c2ab9e05d9",
   "metadata": {},
   "outputs": [
    {
     "data": {
      "text/plain": [
       "DataFrame[]"
      ]
     },
     "execution_count": 6,
     "metadata": {},
     "output_type": "execute_result"
    }
   ],
   "source": [
    "spark.sql(\"create database if not exists bronze\")"
   ]
  },
  {
   "cell_type": "code",
   "execution_count": 7,
   "id": "d951dc39-dce6-4390-9bcb-5f25f2f6b1ef",
   "metadata": {},
   "outputs": [],
   "source": [
    "# topic = \"test-topic-1\"\n",
    "topic = \"weather_test_v1\"\n",
    "maxOffsetsPerTrigger = 100\n",
    "\n",
    "df = spark\\\n",
    "    .readStream\\\n",
    "    .format(\"kafka\")\\\n",
    "    .option(\"kafka.bootstrap.servers\", \"kafka-broker:9092\")\\\n",
    "    .option(\"subscribe\", topic)\\\n",
    "    .option(\"maxOffsetsPerTrigger\", maxOffsetsPerTrigger) \\\n",
    "    .option(\"startingOffsets\", \"earliest\") \\\n",
    "    .load()"
   ]
  },
  {
   "cell_type": "code",
   "execution_count": 7,
   "id": "04ddaf0b-134c-4907-88da-2ded7495d677",
   "metadata": {},
   "outputs": [],
   "source": [
    "# df.selectExpr(\"cast(value as string) as payload\", \"*\").limit(2).toPandas()"
   ]
  },
  {
   "cell_type": "code",
   "execution_count": 8,
   "id": "9e1311e5-86ec-4e68-841a-ec3fe3f1afef",
   "metadata": {},
   "outputs": [
    {
     "name": "stderr",
     "output_type": "stream",
     "text": [
      "                                                                                \r"
     ]
    },
    {
     "data": {
      "text/plain": [
       "<pyspark.sql.streaming.StreamingQuery at 0x7fc183aca3d0>"
      ]
     },
     "execution_count": 8,
     "metadata": {},
     "output_type": "execute_result"
    },
    {
     "name": "stderr",
     "output_type": "stream",
     "text": [
      "[Stage 8:============================================>            (39 + 4) / 50]\r"
     ]
    }
   ],
   "source": [
    "trigger_interval = \"60 seconds\"\n",
    "queryName = \"weather_test_v1\"\n",
    "tableName = \"weather_test_v1\"\n",
    "\n",
    "df\\\n",
    ".selectExpr(\"key\", \"topic\", \"partition\", \"offset\", \"timestamp\", \"timestampType\", \"cast(value as string) as payload\") \\\n",
    ".writeStream \\\n",
    ".trigger(processingTime = trigger_interval) \\\n",
    ".queryName(queryName) \\\n",
    ".format(\"delta\") \\\n",
    ".outputMode(\"append\") \\\n",
    ".option(\"checkpointLocation\", f\"/opt/spark/work-dir/odp_intra_storage/spark/datalake/bronze.db/{tableName}/_ckpt\") \\\n",
    ".toTable(f\"bronze.{tableName}\")"
   ]
  },
  {
   "cell_type": "code",
   "execution_count": 9,
   "id": "82fc722f-f1c8-4e12-9a6f-4ddf9b1fc064",
   "metadata": {},
   "outputs": [
    {
     "name": "stderr",
     "output_type": "stream",
     "text": [
      "                                                                                \r"
     ]
    },
    {
     "data": {
      "text/html": [
       "<div>\n",
       "<style scoped>\n",
       "    .dataframe tbody tr th:only-of-type {\n",
       "        vertical-align: middle;\n",
       "    }\n",
       "\n",
       "    .dataframe tbody tr th {\n",
       "        vertical-align: top;\n",
       "    }\n",
       "\n",
       "    .dataframe thead th {\n",
       "        text-align: right;\n",
       "    }\n",
       "</style>\n",
       "<table border=\"1\" class=\"dataframe\">\n",
       "  <thead>\n",
       "    <tr style=\"text-align: right;\">\n",
       "      <th></th>\n",
       "      <th>payload</th>\n",
       "    </tr>\n",
       "  </thead>\n",
       "  <tbody>\n",
       "    <tr>\n",
       "      <th>0</th>\n",
       "      <td>{\"data\": {\"location\": \"Naperville\", \"time\": \"Friday 3:00\\u202fPM\", \"info\": \"Snow showers\", \"temperature\": \"30\", \"precipitation\": \"1%\", \"humidiy\": \"54%\", \"wind\": \"9 mph\"}}</td>\n",
       "    </tr>\n",
       "    <tr>\n",
       "      <th>1</th>\n",
       "      <td>{\"data\": {\"location\": \"Naperville\", \"time\": \"Friday 3:00\\u202fPM\", \"info\": \"Snow showers\", \"temperature\": \"30\", \"precipitation\": \"1%\", \"humidiy\": \"54%\", \"wind\": \"9 mph\"}}</td>\n",
       "    </tr>\n",
       "  </tbody>\n",
       "</table>\n",
       "</div>"
      ],
      "text/plain": [
       "                                                                                                                                                                      payload\n",
       "0  {\"data\": {\"location\": \"Naperville\", \"time\": \"Friday 3:00\\u202fPM\", \"info\": \"Snow showers\", \"temperature\": \"30\", \"precipitation\": \"1%\", \"humidiy\": \"54%\", \"wind\": \"9 mph\"}}\n",
       "1  {\"data\": {\"location\": \"Naperville\", \"time\": \"Friday 3:00\\u202fPM\", \"info\": \"Snow showers\", \"temperature\": \"30\", \"precipitation\": \"1%\", \"humidiy\": \"54%\", \"wind\": \"9 mph\"}}"
      ]
     },
     "execution_count": 9,
     "metadata": {},
     "output_type": "execute_result"
    }
   ],
   "source": [
    "spark.sql(\"select payload from bronze.weather_test_v1 limit 2\").toPandas()"
   ]
  },
  {
   "cell_type": "code",
   "execution_count": null,
   "id": "f1535ee1-4065-4b50-91d2-617b51ae6987",
   "metadata": {},
   "outputs": [],
   "source": []
  },
  {
   "cell_type": "code",
   "execution_count": 22,
   "id": "9afe7576-1a61-41d5-b357-73c65b31c5a7",
   "metadata": {},
   "outputs": [
    {
     "name": "stderr",
     "output_type": "stream",
     "text": [
      "/opt/spark/python/pyspark/sql/pandas/conversion.py:248: FutureWarning: Passing unit-less datetime64 dtype to .astype is deprecated and will raise in a future version. Pass 'datetime64[ns]' instead\n",
      "  series = series.astype(t, copy=False)\n"
     ]
    },
    {
     "data": {
      "text/html": [
       "<div>\n",
       "<style scoped>\n",
       "    .dataframe tbody tr th:only-of-type {\n",
       "        vertical-align: middle;\n",
       "    }\n",
       "\n",
       "    .dataframe tbody tr th {\n",
       "        vertical-align: top;\n",
       "    }\n",
       "\n",
       "    .dataframe thead th {\n",
       "        text-align: right;\n",
       "    }\n",
       "</style>\n",
       "<table border=\"1\" class=\"dataframe\">\n",
       "  <thead>\n",
       "    <tr style=\"text-align: right;\">\n",
       "      <th></th>\n",
       "      <th>current_timestamp() - INTERVAL '10' MINUTE</th>\n",
       "    </tr>\n",
       "  </thead>\n",
       "  <tbody>\n",
       "    <tr>\n",
       "      <th>0</th>\n",
       "      <td>2023-02-24 22:58:39.676830</td>\n",
       "    </tr>\n",
       "  </tbody>\n",
       "</table>\n",
       "</div>"
      ],
      "text/plain": [
       "  current_timestamp() - INTERVAL '10' MINUTE\n",
       "0                 2023-02-24 22:58:39.676830"
      ]
     },
     "execution_count": 22,
     "metadata": {},
     "output_type": "execute_result"
    },
    {
     "name": "stderr",
     "output_type": "stream",
     "text": [
      "                                                                                \r"
     ]
    }
   ],
   "source": [
    "spark.sql(\"select current_timestamp - INTERVAL 10 minutes\").toPandas()"
   ]
  },
  {
   "cell_type": "code",
   "execution_count": 7,
   "id": "533f85bc-d100-4476-a073-6c6f8f5e5b91",
   "metadata": {},
   "outputs": [
    {
     "name": "stderr",
     "output_type": "stream",
     "text": [
      "                                                                                \r"
     ]
    },
    {
     "data": {
      "text/html": [
       "<div>\n",
       "<style scoped>\n",
       "    .dataframe tbody tr th:only-of-type {\n",
       "        vertical-align: middle;\n",
       "    }\n",
       "\n",
       "    .dataframe tbody tr th {\n",
       "        vertical-align: top;\n",
       "    }\n",
       "\n",
       "    .dataframe thead th {\n",
       "        text-align: right;\n",
       "    }\n",
       "</style>\n",
       "<table border=\"1\" class=\"dataframe\">\n",
       "  <thead>\n",
       "    <tr style=\"text-align: right;\">\n",
       "      <th></th>\n",
       "      <th>path</th>\n",
       "      <th>metrics</th>\n",
       "    </tr>\n",
       "  </thead>\n",
       "  <tbody>\n",
       "    <tr>\n",
       "      <th>0</th>\n",
       "      <td>file:/opt/spark/work-dir/odp_intra_storage/spa...</td>\n",
       "      <td>(1, 15740, (874746, 874746, 874746.0, 1, 87474...</td>\n",
       "    </tr>\n",
       "  </tbody>\n",
       "</table>\n",
       "</div>"
      ],
      "text/plain": [
       "                                                path  \\\n",
       "0  file:/opt/spark/work-dir/odp_intra_storage/spa...   \n",
       "\n",
       "                                             metrics  \n",
       "0  (1, 15740, (874746, 874746, 874746.0, 1, 87474...  "
      ]
     },
     "execution_count": 7,
     "metadata": {},
     "output_type": "execute_result"
    }
   ],
   "source": [
    "spark.sql(\"OPTIMIZE test_db.spark_kafka\").toPandas()"
   ]
  },
  {
   "cell_type": "code",
   "execution_count": 11,
   "id": "7654c705-0e85-4bf8-8e89-b9e6599b8348",
   "metadata": {},
   "outputs": [
    {
     "name": "stderr",
     "output_type": "stream",
     "text": [
      "[Stage 115:=============================================>         (41 + 2) / 50]\r"
     ]
    },
    {
     "name": "stdout",
     "output_type": "stream",
     "text": [
      "Deleted 0 files and directories in a total of 1 directories.\n"
     ]
    },
    {
     "name": "stderr",
     "output_type": "stream",
     "text": [
      "                                                                                \r"
     ]
    },
    {
     "data": {
      "text/html": [
       "<div>\n",
       "<style scoped>\n",
       "    .dataframe tbody tr th:only-of-type {\n",
       "        vertical-align: middle;\n",
       "    }\n",
       "\n",
       "    .dataframe tbody tr th {\n",
       "        vertical-align: top;\n",
       "    }\n",
       "\n",
       "    .dataframe thead th {\n",
       "        text-align: right;\n",
       "    }\n",
       "</style>\n",
       "<table border=\"1\" class=\"dataframe\">\n",
       "  <thead>\n",
       "    <tr style=\"text-align: right;\">\n",
       "      <th></th>\n",
       "      <th>path</th>\n",
       "    </tr>\n",
       "  </thead>\n",
       "  <tbody>\n",
       "    <tr>\n",
       "      <th>0</th>\n",
       "      <td>file:/opt/spark/work-dir/odp_intra_storage/spark/datalake/test_db.db/spark_kafka</td>\n",
       "    </tr>\n",
       "  </tbody>\n",
       "</table>\n",
       "</div>"
      ],
      "text/plain": [
       "                                                                               path\n",
       "0  file:/opt/spark/work-dir/odp_intra_storage/spark/datalake/test_db.db/spark_kafka"
      ]
     },
     "execution_count": 11,
     "metadata": {},
     "output_type": "execute_result"
    }
   ],
   "source": [
    "spark.sql(\"set spark.databricks.delta.retentionDurationCheck.enabled = false\")\n",
    "spark.sql(\"SET spark.databricks.delta.vacuum.parallelDelete.enabled = true\")\n",
    "spark.sql(\"VACUUM test_db.spark_kafka RETAIN 0 HOURS\").toPandas()"
   ]
  },
  {
   "cell_type": "code",
   "execution_count": null,
   "id": "67d2be5f-7f47-4742-bdbd-8ddfdc1c957f",
   "metadata": {},
   "outputs": [],
   "source": []
  },
  {
   "cell_type": "code",
   "execution_count": 16,
   "id": "439bb8fc-b2f4-4d0f-91c2-a9fb0ebdd583",
   "metadata": {},
   "outputs": [],
   "source": [
    "select_expr = [\"get_json_object(payload, '$.data.location') as location\",\n",
    " \"get_json_object(payload, '$.data.time') as time\",\n",
    " \"get_json_object(payload, '$.data.info') as info\",\n",
    " \"get_json_object(payload, '$.data.temperature') as temperature\",\n",
    " \"get_json_object(payload, '$.data.precipitation') as precipitation\",\n",
    " \"get_json_object(payload, '$.data.humidiy') as humidity\",\n",
    " \"get_json_object(payload, '$.data.wind') as wind\",\n",
    " \"topic as kafka_topic\",\n",
    " \"partition as kafka_partition\",\n",
    " \"offset as kafka_offset\",\n",
    " \"cast(timestamp as timestamp) as kafka_timestamp\",\n",
    " \"cast(timestamp as date) as kafka_date\", \n",
    " \"current_timestamp as load_time\"\n",
    "]"
   ]
  },
  {
   "cell_type": "code",
   "execution_count": 17,
   "id": "db1be038-5012-4330-8245-250fe0c2be9d",
   "metadata": {},
   "outputs": [
    {
     "name": "stderr",
     "output_type": "stream",
     "text": [
      "/opt/spark/python/pyspark/sql/pandas/conversion.py:248: FutureWarning: Passing unit-less datetime64 dtype to .astype is deprecated and will raise in a future version. Pass 'datetime64[ns]' instead\n",
      "  series = series.astype(t, copy=False)\n",
      "/opt/spark/python/pyspark/sql/pandas/conversion.py:248: FutureWarning: Passing unit-less datetime64 dtype to .astype is deprecated and will raise in a future version. Pass 'datetime64[ns]' instead\n",
      "  series = series.astype(t, copy=False)\n"
     ]
    },
    {
     "data": {
      "text/html": [
       "<div>\n",
       "<style scoped>\n",
       "    .dataframe tbody tr th:only-of-type {\n",
       "        vertical-align: middle;\n",
       "    }\n",
       "\n",
       "    .dataframe tbody tr th {\n",
       "        vertical-align: top;\n",
       "    }\n",
       "\n",
       "    .dataframe thead th {\n",
       "        text-align: right;\n",
       "    }\n",
       "</style>\n",
       "<table border=\"1\" class=\"dataframe\">\n",
       "  <thead>\n",
       "    <tr style=\"text-align: right;\">\n",
       "      <th></th>\n",
       "      <th>location</th>\n",
       "      <th>time</th>\n",
       "      <th>info</th>\n",
       "      <th>temperature</th>\n",
       "      <th>precipitation</th>\n",
       "      <th>humidity</th>\n",
       "      <th>wind</th>\n",
       "      <th>kafka_topic</th>\n",
       "      <th>kafka_partition</th>\n",
       "      <th>kafka_offset</th>\n",
       "      <th>kafka_timestamp</th>\n",
       "      <th>kafka_date</th>\n",
       "      <th>load_time</th>\n",
       "    </tr>\n",
       "  </thead>\n",
       "  <tbody>\n",
       "    <tr>\n",
       "      <th>0</th>\n",
       "      <td>Naperville</td>\n",
       "      <td>Friday 5:00 PM</td>\n",
       "      <td>Mostly cloudy</td>\n",
       "      <td>28</td>\n",
       "      <td>68%</td>\n",
       "      <td>59%</td>\n",
       "      <td>9 mph</td>\n",
       "      <td>weather_test_v1</td>\n",
       "      <td>0</td>\n",
       "      <td>262</td>\n",
       "      <td>2023-02-24 23:00:29.735</td>\n",
       "      <td>2023-02-24</td>\n",
       "      <td>2023-02-24 23:01:50.568526</td>\n",
       "    </tr>\n",
       "    <tr>\n",
       "      <th>1</th>\n",
       "      <td>Naperville</td>\n",
       "      <td>Friday 4:00 PM</td>\n",
       "      <td>Mostly cloudy</td>\n",
       "      <td>28</td>\n",
       "      <td>68%</td>\n",
       "      <td>59%</td>\n",
       "      <td>9 mph</td>\n",
       "      <td>weather_test_v1</td>\n",
       "      <td>0</td>\n",
       "      <td>261</td>\n",
       "      <td>2023-02-24 22:59:58.830</td>\n",
       "      <td>2023-02-24</td>\n",
       "      <td>2023-02-24 23:01:50.568526</td>\n",
       "    </tr>\n",
       "  </tbody>\n",
       "</table>\n",
       "</div>"
      ],
      "text/plain": [
       "     location            time           info temperature precipitation  \\\n",
       "0  Naperville  Friday 5:00 PM  Mostly cloudy          28           68%   \n",
       "1  Naperville  Friday 4:00 PM  Mostly cloudy          28           68%   \n",
       "\n",
       "  humidity   wind      kafka_topic  kafka_partition  kafka_offset  \\\n",
       "0      59%  9 mph  weather_test_v1                0           262   \n",
       "1      59%  9 mph  weather_test_v1                0           261   \n",
       "\n",
       "          kafka_timestamp  kafka_date                  load_time  \n",
       "0 2023-02-24 23:00:29.735  2023-02-24 2023-02-24 23:01:50.568526  \n",
       "1 2023-02-24 22:59:58.830  2023-02-24 2023-02-24 23:01:50.568526  "
      ]
     },
     "execution_count": 17,
     "metadata": {},
     "output_type": "execute_result"
    }
   ],
   "source": [
    "spark.table(\"bronze.weather_test_v1\").selectExpr(select_expr).orderBy(col(\"kafka_offset\").desc()).limit(2).toPandas()"
   ]
  },
  {
   "cell_type": "code",
   "execution_count": 31,
   "id": "9e466aaf-5823-4098-aa6e-ce68e20dee66",
   "metadata": {},
   "outputs": [
    {
     "data": {
      "text/plain": [
       "DataFrame[]"
      ]
     },
     "execution_count": 31,
     "metadata": {},
     "output_type": "execute_result"
    },
    {
     "name": "stderr",
     "output_type": "stream",
     "text": [
      "                                                                                \r"
     ]
    }
   ],
   "source": [
    "spark.sql(\"create database if not exists silver\")"
   ]
  },
  {
   "cell_type": "code",
   "execution_count": 15,
   "id": "3a71de2e-edbd-47b8-8343-748173087c8f",
   "metadata": {},
   "outputs": [
    {
     "data": {
      "text/plain": [
       "DataFrame[]"
      ]
     },
     "execution_count": 15,
     "metadata": {},
     "output_type": "execute_result"
    }
   ],
   "source": [
    "spark.sql(\"drop table if exists silver.weather_test\")"
   ]
  },
  {
   "cell_type": "code",
   "execution_count": 18,
   "id": "f01ba390-590a-4015-a001-24518d57cac8",
   "metadata": {},
   "outputs": [
    {
     "name": "stderr",
     "output_type": "stream",
     "text": [
      "                                                                                \r"
     ]
    },
    {
     "data": {
      "text/html": [
       "<div>\n",
       "<style scoped>\n",
       "    .dataframe tbody tr th:only-of-type {\n",
       "        vertical-align: middle;\n",
       "    }\n",
       "\n",
       "    .dataframe tbody tr th {\n",
       "        vertical-align: top;\n",
       "    }\n",
       "\n",
       "    .dataframe thead th {\n",
       "        text-align: right;\n",
       "    }\n",
       "</style>\n",
       "<table border=\"1\" class=\"dataframe\">\n",
       "  <thead>\n",
       "    <tr style=\"text-align: right;\">\n",
       "      <th></th>\n",
       "    </tr>\n",
       "  </thead>\n",
       "  <tbody>\n",
       "  </tbody>\n",
       "</table>\n",
       "</div>"
      ],
      "text/plain": [
       "Empty DataFrame\n",
       "Columns: []\n",
       "Index: []"
      ]
     },
     "execution_count": 18,
     "metadata": {},
     "output_type": "execute_result"
    }
   ],
   "source": [
    "spark.sql(\"\"\"\n",
    "create table silver.weather_test \n",
    "(\n",
    "location string,\n",
    "time string,\n",
    "info string,\n",
    "temperature string,\n",
    "precipitation string,\n",
    "humidity string,\n",
    "wind string,\n",
    "kafka_topic string,\n",
    "kafka_partition int,\n",
    "kafka_offset bigint,\n",
    "kafka_timestamp timestamp,\n",
    "kafka_date date,\n",
    "load_time timestamp\n",
    ")\n",
    "using delta\n",
    ";\n",
    "\"\"\").toPandas()"
   ]
  },
  {
   "cell_type": "code",
   "execution_count": 19,
   "id": "d8b1de7e-e80f-4804-8490-4be6fbab3756",
   "metadata": {},
   "outputs": [
    {
     "data": {
      "text/plain": [
       "<pyspark.sql.streaming.StreamingQuery at 0x7fc183b37f10>"
      ]
     },
     "execution_count": 19,
     "metadata": {},
     "output_type": "execute_result"
    },
    {
     "name": "stderr",
     "output_type": "stream",
     "text": [
      "                                                                                \r"
     ]
    }
   ],
   "source": [
    "trigger_interval = \"60 seconds\"\n",
    "queryName = \"silver_weather_test\"\n",
    "tableName = \"weather_test\"\n",
    "\n",
    "spark.readStream \\\n",
    ".format(\"delta\") \\\n",
    ".table(\"bronze.weather_test_v1\") \\\n",
    ".selectExpr(select_expr) \\\n",
    ".writeStream \\\n",
    ".trigger(processingTime = trigger_interval) \\\n",
    ".queryName(queryName) \\\n",
    ".format(\"delta\") \\\n",
    ".outputMode(\"append\") \\\n",
    ".option(\"checkpointLocation\", f\"/opt/spark/work-dir/odp_intra_storage/spark/datalake/silver.db/{tableName}/_ckpt\") \\\n",
    ".toTable(f\"silver.{tableName}\")"
   ]
  },
  {
   "cell_type": "code",
   "execution_count": 21,
   "id": "c31d0ceb-0657-4ce2-ad01-b7d76afd4a51",
   "metadata": {},
   "outputs": [
    {
     "name": "stderr",
     "output_type": "stream",
     "text": [
      "/opt/spark/python/pyspark/sql/pandas/conversion.py:248: FutureWarning: Passing unit-less datetime64 dtype to .astype is deprecated and will raise in a future version. Pass 'datetime64[ns]' instead\n",
      "  series = series.astype(t, copy=False)\n"
     ]
    },
    {
     "data": {
      "text/html": [
       "<div>\n",
       "<style scoped>\n",
       "    .dataframe tbody tr th:only-of-type {\n",
       "        vertical-align: middle;\n",
       "    }\n",
       "\n",
       "    .dataframe tbody tr th {\n",
       "        vertical-align: top;\n",
       "    }\n",
       "\n",
       "    .dataframe thead th {\n",
       "        text-align: right;\n",
       "    }\n",
       "</style>\n",
       "<table border=\"1\" class=\"dataframe\">\n",
       "  <thead>\n",
       "    <tr style=\"text-align: right;\">\n",
       "      <th></th>\n",
       "      <th>kafka_timestamp</th>\n",
       "      <th>temperature</th>\n",
       "      <th>precipitation</th>\n",
       "      <th>humidity</th>\n",
       "      <th>wind</th>\n",
       "    </tr>\n",
       "  </thead>\n",
       "  <tbody>\n",
       "    <tr>\n",
       "      <th>0</th>\n",
       "      <td>2023-02-24 21:42:22.764</td>\n",
       "      <td>30</td>\n",
       "      <td>1</td>\n",
       "      <td>54</td>\n",
       "      <td>9</td>\n",
       "    </tr>\n",
       "    <tr>\n",
       "      <th>1</th>\n",
       "      <td>2023-02-24 21:42:33.751</td>\n",
       "      <td>30</td>\n",
       "      <td>1</td>\n",
       "      <td>54</td>\n",
       "      <td>9</td>\n",
       "    </tr>\n",
       "  </tbody>\n",
       "</table>\n",
       "</div>"
      ],
      "text/plain": [
       "          kafka_timestamp temperature  precipitation  humidity  wind\n",
       "0 2023-02-24 21:42:22.764          30              1        54     9\n",
       "1 2023-02-24 21:42:33.751          30              1        54     9"
      ]
     },
     "execution_count": 21,
     "metadata": {},
     "output_type": "execute_result"
    },
    {
     "name": "stderr",
     "output_type": "stream",
     "text": [
      "                                                                                \r"
     ]
    }
   ],
   "source": [
    "spark.sql(\"\"\"\n",
    "select \n",
    "kafka_timestamp\n",
    ", max(temperature) as temperature\n",
    ", max(cast(replace(precipitation, '%', '') as int)) as precipitation\n",
    ", max(cast(replace(humidity, '%', '') as int)) as humidity\n",
    ", max(cast(replace(wind, ' mph', '') as int)) as wind\n",
    "from silver.weather_test \n",
    "where 1=1\n",
    "and location = 'Naperville'\n",
    "group by 1\n",
    ";\n",
    "\"\"\").limit(2).toPandas()"
   ]
  },
  {
   "cell_type": "code",
   "execution_count": 11,
   "id": "a2c7704b-3db7-497a-b013-0b7ec0c87b04",
   "metadata": {},
   "outputs": [
    {
     "name": "stderr",
     "output_type": "stream",
     "text": [
      "/opt/spark/python/pyspark/sql/pandas/conversion.py:248: FutureWarning: Passing unit-less datetime64 dtype to .astype is deprecated and will raise in a future version. Pass 'datetime64[ns]' instead\n",
      "  series = series.astype(t, copy=False)\n"
     ]
    },
    {
     "data": {
      "text/html": [
       "<div>\n",
       "<style scoped>\n",
       "    .dataframe tbody tr th:only-of-type {\n",
       "        vertical-align: middle;\n",
       "    }\n",
       "\n",
       "    .dataframe tbody tr th {\n",
       "        vertical-align: top;\n",
       "    }\n",
       "\n",
       "    .dataframe thead th {\n",
       "        text-align: right;\n",
       "    }\n",
       "</style>\n",
       "<table border=\"1\" class=\"dataframe\">\n",
       "  <thead>\n",
       "    <tr style=\"text-align: right;\">\n",
       "      <th></th>\n",
       "      <th>kafka_timestamp</th>\n",
       "      <th>temperature</th>\n",
       "    </tr>\n",
       "  </thead>\n",
       "  <tbody>\n",
       "    <tr>\n",
       "      <th>0</th>\n",
       "      <td>2023-03-16 05:57:42.464</td>\n",
       "      <td>40</td>\n",
       "    </tr>\n",
       "    <tr>\n",
       "      <th>1</th>\n",
       "      <td>2023-03-16 05:56:41.647</td>\n",
       "      <td>40</td>\n",
       "    </tr>\n",
       "  </tbody>\n",
       "</table>\n",
       "</div>"
      ],
      "text/plain": [
       "          kafka_timestamp temperature\n",
       "0 2023-03-16 05:57:42.464          40\n",
       "1 2023-03-16 05:56:41.647          40"
      ]
     },
     "execution_count": 11,
     "metadata": {},
     "output_type": "execute_result"
    }
   ],
   "source": [
    "spark.sql(\"\"\"\n",
    "select \n",
    "kafka_timestamp\n",
    ", max(temperature) as temperature\n",
    "--, max(cast(replace(precipitation, '%', '') as int)) as precipitation\n",
    "--, max(cast(replace(humidity, '%', '') as int)) as humidity\n",
    "--, max(cast(replace(wind, ' mph', '') as int)) as wind\n",
    "from silver.weather_v1 \n",
    "where 1=1\n",
    "--and location = 'Naperville'\n",
    "--and kafka_timestamp > (current_timestamp - interval 60 minutes)\n",
    "group by 1\n",
    "order by 1 desc\n",
    ";\n",
    "\"\"\").limit(2).toPandas()"
   ]
  },
  {
   "cell_type": "code",
   "execution_count": null,
   "id": "72695217-62fb-4521-b58b-b1c8f2ca18db",
   "metadata": {},
   "outputs": [],
   "source": []
  }
 ],
 "metadata": {
  "kernelspec": {
   "display_name": "Python 3 (ipykernel)",
   "language": "python",
   "name": "python3"
  },
  "language_info": {
   "codemirror_mode": {
    "name": "ipython",
    "version": 3
   },
   "file_extension": ".py",
   "mimetype": "text/x-python",
   "name": "python",
   "nbconvert_exporter": "python",
   "pygments_lexer": "ipython3",
   "version": "3.9.2"
  }
 },
 "nbformat": 4,
 "nbformat_minor": 5
}
